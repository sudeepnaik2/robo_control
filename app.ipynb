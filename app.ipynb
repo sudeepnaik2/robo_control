{
 "cells": [
  {
   "cell_type": "code",
   "execution_count": null,
   "id": "85245198-efb9-42f2-ae29-a349ec39175b",
   "metadata": {},
   "outputs": [
    {
     "name": "stdout",
     "output_type": "stream",
     "text": [
      " * Serving Flask app '__main__'\n",
      " * Debug mode: off\n"
     ]
    },
    {
     "name": "stderr",
     "output_type": "stream",
     "text": [
      "WARNING: This is a development server. Do not use it in a production deployment. Use a production WSGI server instead.\n",
      " * Running on http://127.0.0.1:5000\n",
      "Press CTRL+C to quit\n",
      "127.0.0.1 - - [29/Mar/2025 20:54:55] \"POST /send_to_robot HTTP/1.1\" 200 -\n"
     ]
    },
    {
     "name": "stdout",
     "output_type": "stream",
     "text": [
      "📤 Sending to robot API: [{'command': 'move_forward', 'distance': 100}, {'command': 'turn_left'}, {'command': 'move_forward', 'distance': 50}, {'command': 'rotate'}]\n",
      "🤖 Robot API Response: 200 {\"status\": \"command_added\"}\n"
     ]
    },
    {
     "name": "stderr",
     "output_type": "stream",
     "text": [
      "127.0.0.1 - - [29/Mar/2025 20:58:48] \"POST /send_to_robot HTTP/1.1\" 200 -\n"
     ]
    },
    {
     "name": "stdout",
     "output_type": "stream",
     "text": [
      "📤 Sending to robot API: [{'command': 'move_forward', 'distance': 100}, {'command': 'turn_left'}, {'command': 'move_forward', 'distance': 50}, {'command': 'rotate'}]\n",
      "🤖 Robot API Response: 200 {\"status\": \"command_added\"}\n"
     ]
    },
    {
     "name": "stderr",
     "output_type": "stream",
     "text": [
      "127.0.0.1 - - [29/Mar/2025 20:59:26] \"POST /send_to_robot HTTP/1.1\" 200 -\n"
     ]
    },
    {
     "name": "stdout",
     "output_type": "stream",
     "text": [
      "📤 Sending to robot API: [{'command': 'move_forward', 'distance': 100}, {'command': 'turn_left'}, {'command': 'move_forward', 'distance': 50}, {'command': 'rotate'}]\n",
      "🤖 Robot API Response: 200 {\"status\": \"command_added\"}\n"
     ]
    },
    {
     "name": "stderr",
     "output_type": "stream",
     "text": [
      "127.0.0.1 - - [29/Mar/2025 21:03:43] \"POST /send_to_robot HTTP/1.1\" 200 -\n"
     ]
    },
    {
     "name": "stdout",
     "output_type": "stream",
     "text": [
      "📤 Sending to robot API: [{'command': 'move_forward', 'distance': 100}, {'command': 'turn_left'}, {'command': 'move_forward', 'distance': 50}, {'command': 'rotate'}]\n",
      "🤖 Robot API Response: 200 {\"status\": \"command_added\"}\n"
     ]
    },
    {
     "name": "stderr",
     "output_type": "stream",
     "text": [
      "127.0.0.1 - - [29/Mar/2025 21:05:14] \"POST /send_to_robot HTTP/1.1\" 200 -\n"
     ]
    },
    {
     "name": "stdout",
     "output_type": "stream",
     "text": [
      "📤 Sending to robot API: [{'command': 'move_forward', 'distance': 100}, {'command': 'turn_left'}, {'command': 'move_forward', 'distance': 50}, {'command': 'rotate'}]\n",
      "🤖 Robot API Response: 200 {\"status\": \"command_added\"}\n"
     ]
    },
    {
     "name": "stderr",
     "output_type": "stream",
     "text": [
      "127.0.0.1 - - [29/Mar/2025 21:06:08] \"POST /send_to_robot HTTP/1.1\" 200 -\n"
     ]
    },
    {
     "name": "stdout",
     "output_type": "stream",
     "text": [
      "📤 Sending to robot API: [{'command': 'move_forward', 'distance': 100}, {'command': 'turn_left'}, {'command': 'move_forward', 'distance': 50}, {'command': 'rotate'}]\n",
      "🤖 Robot API Response: 200 {\"status\": \"command_added\"}\n"
     ]
    },
    {
     "name": "stderr",
     "output_type": "stream",
     "text": [
      "127.0.0.1 - - [29/Mar/2025 21:06:40] \"POST /send_to_robot HTTP/1.1\" 200 -\n"
     ]
    },
    {
     "name": "stdout",
     "output_type": "stream",
     "text": [
      "📤 Sending to robot API: [{'command': 'move_forward', 'distance': 100}, {'command': 'turn_left'}, {'command': 'move_forward', 'distance': 50}, {'command': 'rotate'}]\n",
      "🤖 Robot API Response: 200 {\"status\": \"command_added\"}\n"
     ]
    },
    {
     "name": "stderr",
     "output_type": "stream",
     "text": [
      "127.0.0.1 - - [29/Mar/2025 21:15:54] \"POST /send_to_robot HTTP/1.1\" 200 -\n"
     ]
    },
    {
     "name": "stdout",
     "output_type": "stream",
     "text": [
      "📤 Sending to robot API: [{'command': 'move_forward', 'distance': 100}, {'command': 'turn_left'}, {'command': 'move_forward', 'distance': 50}, {'command': 'rotate'}]\n",
      "🤖 Robot API Response: 200 {\"status\": \"command_added\"}\n"
     ]
    },
    {
     "name": "stderr",
     "output_type": "stream",
     "text": [
      "127.0.0.1 - - [29/Mar/2025 21:16:29] \"POST /send_to_robot HTTP/1.1\" 200 -\n"
     ]
    },
    {
     "name": "stdout",
     "output_type": "stream",
     "text": [
      "📤 Sending to robot API: [{'command': 'move_forward', 'distance': 100}, {'command': 'turn_left'}, {'command': 'move_forward', 'distance': 50}, {'command': 'rotate'}]\n",
      "🤖 Robot API Response: 200 {\"status\": \"command_added\"}\n"
     ]
    },
    {
     "name": "stderr",
     "output_type": "stream",
     "text": [
      "127.0.0.1 - - [29/Mar/2025 21:25:30] \"POST /send_to_robot HTTP/1.1\" 200 -\n"
     ]
    },
    {
     "name": "stdout",
     "output_type": "stream",
     "text": [
      "📤 Sending to robot API: [{'command': 'move_forward', 'distance': 100}, {'command': 'turn_left'}, {'command': 'move_forward', 'distance': 50}, {'command': 'rotate'}]\n",
      "🤖 Robot API Response: 200 {\"status\": \"command_added\"}\n"
     ]
    },
    {
     "name": "stderr",
     "output_type": "stream",
     "text": [
      "127.0.0.1 - - [29/Mar/2025 21:27:05] \"POST /send_to_robot HTTP/1.1\" 200 -\n"
     ]
    },
    {
     "name": "stdout",
     "output_type": "stream",
     "text": [
      "📤 Sending to robot API: [{'command': 'move_forward', 'distance': 100}, {'command': 'turn_left'}, {'command': 'move_forward', 'distance': 50}, {'command': 'rotate'}]\n",
      "🤖 Robot API Response: 200 {\"status\": \"command_added\"}\n"
     ]
    },
    {
     "name": "stderr",
     "output_type": "stream",
     "text": [
      "127.0.0.1 - - [29/Mar/2025 21:27:34] \"POST /send_to_robot HTTP/1.1\" 200 -\n"
     ]
    },
    {
     "name": "stdout",
     "output_type": "stream",
     "text": [
      "📤 Sending to robot API: [{'command': 'move_forward', 'distance': 100}, {'command': 'turn_left'}, {'command': 'move_forward', 'distance': 50}, {'command': 'rotate'}]\n",
      "🤖 Robot API Response: 200 {\"status\": \"command_added\"}\n"
     ]
    },
    {
     "name": "stderr",
     "output_type": "stream",
     "text": [
      "127.0.0.1 - - [29/Mar/2025 21:28:01] \"POST /send_to_robot HTTP/1.1\" 200 -\n"
     ]
    },
    {
     "name": "stdout",
     "output_type": "stream",
     "text": [
      "📤 Sending to robot API: [{'command': 'move_forward', 'distance': 100}, {'command': 'turn_left'}, {'command': 'move_forward', 'distance': 50}, {'command': 'rotate'}]\n",
      "🤖 Robot API Response: 200 {\"status\": \"command_added\"}\n",
      "📤 Sending to robot API: [{'command': 'move_forward', 'distance': 100}, {'command': 'turn_left'}, {'command': 'move_forward', 'distance': 50}, {'command': 'rotate'}]\n"
     ]
    },
    {
     "name": "stderr",
     "output_type": "stream",
     "text": [
      "127.0.0.1 - - [29/Mar/2025 21:30:44] \"POST /send_to_robot HTTP/1.1\" 200 -\n"
     ]
    },
    {
     "name": "stdout",
     "output_type": "stream",
     "text": [
      "🤖 Robot API Response: 200 {\"status\": \"command_added\"}\n"
     ]
    },
    {
     "name": "stderr",
     "output_type": "stream",
     "text": [
      "127.0.0.1 - - [29/Mar/2025 22:05:29] \"POST /send_to_robot HTTP/1.1\" 200 -\n"
     ]
    },
    {
     "name": "stdout",
     "output_type": "stream",
     "text": [
      "📤 Sending to robot API: [{'command': 'move_forward', 'distance': 100}, {'command': 'turn_left'}, {'command': 'move_forward', 'distance': 50}, {'command': 'rotate'}]\n",
      "🤖 Robot API Response: 200 {\"status\": \"command_added\"}\n"
     ]
    },
    {
     "name": "stderr",
     "output_type": "stream",
     "text": [
      "127.0.0.1 - - [29/Mar/2025 22:08:18] \"POST /send_to_robot HTTP/1.1\" 200 -\n"
     ]
    },
    {
     "name": "stdout",
     "output_type": "stream",
     "text": [
      "📤 Sending to robot API: [{'command': 'move_forward', 'distance': 100}, {'command': 'turn_left'}, {'command': 'move_forward', 'distance': 50}, {'command': 'rotate'}]\n",
      "🤖 Robot API Response: 200 {\"status\": \"command_added\"}\n"
     ]
    },
    {
     "name": "stderr",
     "output_type": "stream",
     "text": [
      "127.0.0.1 - - [29/Mar/2025 22:10:16] \"POST /send_to_robot HTTP/1.1\" 200 -\n"
     ]
    },
    {
     "name": "stdout",
     "output_type": "stream",
     "text": [
      "📤 Sending to robot API: [{'command': 'move_forward', 'distance': 100}, {'command': 'turn_left'}, {'command': 'move_forward', 'distance': 50}, {'command': 'rotate'}]\n",
      "🤖 Robot API Response: 200 {\"status\": \"command_added\"}\n",
      "📤 Sending to robot API: [{'command': 'move_forward', 'distance': 1000}, {'command': 'turn_left'}, {'command': 'move_forward', 'distance': 50}, {'command': 'rotate'}]\n"
     ]
    },
    {
     "name": "stderr",
     "output_type": "stream",
     "text": [
      "127.0.0.1 - - [29/Mar/2025 22:10:35] \"POST /send_to_robot HTTP/1.1\" 200 -\n"
     ]
    },
    {
     "name": "stdout",
     "output_type": "stream",
     "text": [
      "🤖 Robot API Response: 200 {\"status\": \"command_added\"}\n"
     ]
    },
    {
     "name": "stderr",
     "output_type": "stream",
     "text": [
      "127.0.0.1 - - [29/Mar/2025 22:31:35] \"POST /send_to_robot HTTP/1.1\" 200 -\n"
     ]
    },
    {
     "name": "stdout",
     "output_type": "stream",
     "text": [
      "📤 Sending to robot API: [{'command': 'move_forward', 'distance': 100}, {'command': 'turn_left'}, {'command': 'move_forward', 'distance': 50}, {'command': 'rotate'}]\n",
      "🤖 Robot API Response: 200 {\"status\": \"command_added\"}\n"
     ]
    },
    {
     "name": "stderr",
     "output_type": "stream",
     "text": [
      "127.0.0.1 - - [29/Mar/2025 22:32:01] \"POST /send_to_robot HTTP/1.1\" 200 -\n"
     ]
    },
    {
     "name": "stdout",
     "output_type": "stream",
     "text": [
      "📤 Sending to robot API: [{'command': 'move_forward', 'distance': 500}, {'command': 'turn_left'}, {'command': 'move_forward', 'distance': 50}, {'command': 'rotate'}]\n",
      "🤖 Robot API Response: 200 {\"status\": \"command_added\"}\n"
     ]
    },
    {
     "name": "stderr",
     "output_type": "stream",
     "text": [
      "127.0.0.1 - - [29/Mar/2025 22:32:36] \"POST /send_to_robot HTTP/1.1\" 200 -\n"
     ]
    },
    {
     "name": "stdout",
     "output_type": "stream",
     "text": [
      "📤 Sending to robot API: [{'command': 'move_forward', 'distance': 500}, {'command': 'turn_left'}, {'command': 'move_forward', 'distance': 50}, {'command': 'rotate'}]\n",
      "🤖 Robot API Response: 200 {\"status\": \"command_added\"}\n"
     ]
    },
    {
     "name": "stderr",
     "output_type": "stream",
     "text": [
      "127.0.0.1 - - [29/Mar/2025 22:32:57] \"POST /send_to_robot HTTP/1.1\" 200 -\n"
     ]
    },
    {
     "name": "stdout",
     "output_type": "stream",
     "text": [
      "📤 Sending to robot API: [{'command': 'move_forward', 'distance': 500}, {'command': 'turn_left'}, {'command': 'move_forward', 'distance': 50}, {'command': 'rotate'}]\n",
      "🤖 Robot API Response: 200 {\"status\": \"command_added\"}\n"
     ]
    },
    {
     "name": "stderr",
     "output_type": "stream",
     "text": [
      "127.0.0.1 - - [29/Mar/2025 22:33:33] \"POST /send_to_robot HTTP/1.1\" 200 -\n"
     ]
    },
    {
     "name": "stdout",
     "output_type": "stream",
     "text": [
      "📤 Sending to robot API: [{'command': 'move_forward', 'distance': 100}, {'command': 'turn_left'}, {'command': 'move_forward', 'distance': 50}, {'command': 'rotate'}]\n",
      "🤖 Robot API Response: 200 {\"status\": \"command_added\"}\n"
     ]
    },
    {
     "name": "stderr",
     "output_type": "stream",
     "text": [
      "127.0.0.1 - - [29/Mar/2025 22:34:16] \"POST /send_to_robot HTTP/1.1\" 200 -\n"
     ]
    },
    {
     "name": "stdout",
     "output_type": "stream",
     "text": [
      "📤 Sending to robot API: [{'command': 'move_forward', 'distance': 100}, {'command': 'turn_left', 'distance': 100}, {'command': 'move_forward', 'distance': 50}, {'command': 'rotate'}]\n",
      "🤖 Robot API Response: 200 {\"status\": \"command_added\"}\n"
     ]
    },
    {
     "name": "stderr",
     "output_type": "stream",
     "text": [
      "127.0.0.1 - - [29/Mar/2025 22:34:45] \"POST /send_to_robot HTTP/1.1\" 200 -\n"
     ]
    },
    {
     "name": "stdout",
     "output_type": "stream",
     "text": [
      "📤 Sending to robot API: [{'command': 'move_backward', 'distance': 100}, {'command': 'turn_left', 'distance': 100}, {'command': 'move_forward', 'distance': 50}, {'command': 'rotate'}]\n",
      "🤖 Robot API Response: 200 {\"status\": \"command_added\"}\n"
     ]
    },
    {
     "name": "stderr",
     "output_type": "stream",
     "text": [
      "127.0.0.1 - - [29/Mar/2025 22:35:12] \"POST /send_to_robot HTTP/1.1\" 200 -\n"
     ]
    },
    {
     "name": "stdout",
     "output_type": "stream",
     "text": [
      "📤 Sending to robot API: [{'command': 'move_forward', 'distance': 100}, {'command': 'turn_left', 'distance': 100}, {'command': 'move_forward', 'distance': 50}, {'command': 'rotate'}]\n",
      "🤖 Robot API Response: 200 {\"status\": \"command_added\"}\n"
     ]
    },
    {
     "name": "stderr",
     "output_type": "stream",
     "text": [
      "127.0.0.1 - - [29/Mar/2025 22:35:59] \"POST /send_to_robot HTTP/1.1\" 200 -\n"
     ]
    },
    {
     "name": "stdout",
     "output_type": "stream",
     "text": [
      "📤 Sending to robot API: [{'command': 'move_forward', 'distance': 100}, {'command': 'turn_left'}, {'command': 'move_forward', 'distance': 50}, {'command': 'rotate'}]\n",
      "🤖 Robot API Response: 200 {\"status\": \"command_added\"}\n"
     ]
    },
    {
     "name": "stderr",
     "output_type": "stream",
     "text": [
      "127.0.0.1 - - [29/Mar/2025 22:36:35] \"POST /send_to_robot HTTP/1.1\" 200 -\n"
     ]
    },
    {
     "name": "stdout",
     "output_type": "stream",
     "text": [
      "📤 Sending to robot API: [{'command': 'move_forward', 'distance': 100}, {'command': 'turn_left'}, {'command': 'move_forward', 'distance': 50}, {'command': 'rotate'}]\n",
      "🤖 Robot API Response: 200 {\"status\": \"command_added\"}\n",
      "📤 Sending to robot API: [{'command': 'move_forward', 'distance': 100}, {'command': 'turn_left'}, {'command': 'move_forward', 'distance': 50}, {'command': 'rotate'}]\n"
     ]
    },
    {
     "name": "stderr",
     "output_type": "stream",
     "text": [
      "127.0.0.1 - - [29/Mar/2025 22:37:38] \"POST /send_to_robot HTTP/1.1\" 200 -\n"
     ]
    },
    {
     "name": "stdout",
     "output_type": "stream",
     "text": [
      "🤖 Robot API Response: 200 {\"status\": \"command_added\"}\n"
     ]
    },
    {
     "name": "stderr",
     "output_type": "stream",
     "text": [
      "127.0.0.1 - - [29/Mar/2025 22:38:23] \"POST /send_to_robot HTTP/1.1\" 200 -\n"
     ]
    },
    {
     "name": "stdout",
     "output_type": "stream",
     "text": [
      "📤 Sending to robot API: [{'command': 'move_forward', 'distance': 100}, {'command': 'turn_left'}, {'command': 'move_forward', 'distance': 50}, {'command': 'rotate'}]\n",
      "🤖 Robot API Response: 200 {\"status\": \"command_added\"}\n"
     ]
    },
    {
     "name": "stderr",
     "output_type": "stream",
     "text": [
      "127.0.0.1 - - [29/Mar/2025 22:42:44] \"POST /send_to_robot HTTP/1.1\" 200 -\n"
     ]
    },
    {
     "name": "stdout",
     "output_type": "stream",
     "text": [
      "📤 Sending to robot API: [{'command': 'move_forward', 'distance': 100}, {'command': 'turn_left'}, {'command': 'move_forward', 'distance': 50}, {'command': 'rotate'}]\n",
      "🤖 Robot API Response: 200 {\"status\": \"command_added\"}\n"
     ]
    },
    {
     "name": "stderr",
     "output_type": "stream",
     "text": [
      "127.0.0.1 - - [29/Mar/2025 22:43:21] \"POST /send_to_robot HTTP/1.1\" 200 -\n"
     ]
    },
    {
     "name": "stdout",
     "output_type": "stream",
     "text": [
      "📤 Sending to robot API: [{'command': 'move_forward', 'distance': 100}, {'command': 'turn_left'}, {'command': 'move_forward', 'distance': 50}, {'command': 'rotate'}]\n",
      "🤖 Robot API Response: 200 {\"status\": \"command_added\"}\n"
     ]
    },
    {
     "name": "stderr",
     "output_type": "stream",
     "text": [
      "127.0.0.1 - - [29/Mar/2025 22:45:09] \"POST /send_to_robot HTTP/1.1\" 200 -\n"
     ]
    },
    {
     "name": "stdout",
     "output_type": "stream",
     "text": [
      "📤 Sending to robot API: [{'command': 'move_forward', 'distance': 100}, {'command': 'turn_left'}, {'command': 'move_forward', 'distance': 50}, {'command': 'rotate'}]\n",
      "🤖 Robot API Response: 200 {\"status\": \"command_added\"}\n"
     ]
    },
    {
     "name": "stderr",
     "output_type": "stream",
     "text": [
      "127.0.0.1 - - [29/Mar/2025 22:48:28] \"POST /send_to_robot HTTP/1.1\" 200 -\n"
     ]
    },
    {
     "name": "stdout",
     "output_type": "stream",
     "text": [
      "📤 Sending to robot API: [{'command': 'move_forward', 'distance': 100}, {'command': 'turn_left'}, {'command': 'move_forward', 'distance': 50}, {'command': 'rotate'}]\n",
      "🤖 Robot API Response: 200 {\"status\": \"command_added\"}\n"
     ]
    },
    {
     "name": "stderr",
     "output_type": "stream",
     "text": [
      "127.0.0.1 - - [29/Mar/2025 22:49:06] \"POST /send_command HTTP/1.1\" 200 -\n"
     ]
    },
    {
     "name": "stdout",
     "output_type": "stream",
     "text": [
      "🎙️ Raw text: move forward by 100\n",
      "🤖 Parsed commands: [{'command': 'move_forward'}]\n"
     ]
    },
    {
     "name": "stderr",
     "output_type": "stream",
     "text": [
      "127.0.0.1 - - [29/Mar/2025 22:49:07] \"POST /send_to_robot HTTP/1.1\" 200 -\n"
     ]
    },
    {
     "name": "stdout",
     "output_type": "stream",
     "text": [
      "📤 Sending to robot API: [{'command': 'move_forward'}]\n",
      "🤖 Robot API Response: 200 {\"status\": \"command_added\"}\n"
     ]
    },
    {
     "name": "stderr",
     "output_type": "stream",
     "text": [
      "127.0.0.1 - - [29/Mar/2025 22:49:14] \"POST /send_command HTTP/1.1\" 200 -\n"
     ]
    },
    {
     "name": "stdout",
     "output_type": "stream",
     "text": [
      "🎙️ Raw text: move forward by 100 mm\n",
      "🤖 Parsed commands: [{'command': 'move_forward', 'distance': 100}]\n"
     ]
    },
    {
     "name": "stderr",
     "output_type": "stream",
     "text": [
      "127.0.0.1 - - [29/Mar/2025 22:49:15] \"POST /send_to_robot HTTP/1.1\" 200 -\n"
     ]
    },
    {
     "name": "stdout",
     "output_type": "stream",
     "text": [
      "📤 Sending to robot API: [{'command': 'move_forward', 'distance': 100}]\n",
      "🤖 Robot API Response: 200 {\"status\": \"command_added\"}\n",
      "📤 Sending to robot API: [{'command': 'move_forward', 'distance': 100}]\n"
     ]
    },
    {
     "name": "stderr",
     "output_type": "stream",
     "text": [
      "127.0.0.1 - - [29/Mar/2025 22:52:53] \"POST /send_to_robot HTTP/1.1\" 200 -\n"
     ]
    },
    {
     "name": "stdout",
     "output_type": "stream",
     "text": [
      "🤖 Robot API Response: 200 {\"status\": \"command_added\"}\n"
     ]
    },
    {
     "name": "stderr",
     "output_type": "stream",
     "text": [
      "127.0.0.1 - - [29/Mar/2025 22:54:22] \"POST /send_to_robot HTTP/1.1\" 200 -\n"
     ]
    },
    {
     "name": "stdout",
     "output_type": "stream",
     "text": [
      "📤 Sending to robot API: [{'command': 'move_forward', 'distance': 100}]\n",
      "🤖 Robot API Response: 200 {\"status\": \"command_added\"}\n",
      "📤 Sending to robot API: [{'command': 'move_forward', 'distance': 100}]\n"
     ]
    },
    {
     "name": "stderr",
     "output_type": "stream",
     "text": [
      "127.0.0.1 - - [29/Mar/2025 22:54:30] \"POST /send_to_robot HTTP/1.1\" 200 -\n"
     ]
    },
    {
     "name": "stdout",
     "output_type": "stream",
     "text": [
      "🤖 Robot API Response: 200 {\"status\": \"command_added\"}\n"
     ]
    },
    {
     "name": "stderr",
     "output_type": "stream",
     "text": [
      "127.0.0.1 - - [29/Mar/2025 22:54:47] \"POST /send_command HTTP/1.1\" 200 -\n"
     ]
    },
    {
     "name": "stdout",
     "output_type": "stream",
     "text": [
      "🎙️ Raw text: move forward by 100 mmm and then take left.\n",
      "🤖 Parsed commands: [{'command': 'move_forward', 'distance': 100}, {'command': 'turn_left'}]\n"
     ]
    },
    {
     "name": "stderr",
     "output_type": "stream",
     "text": [
      "127.0.0.1 - - [29/Mar/2025 22:54:48] \"POST /send_to_robot HTTP/1.1\" 200 -\n"
     ]
    },
    {
     "name": "stdout",
     "output_type": "stream",
     "text": [
      "📤 Sending to robot API: [{'command': 'move_forward', 'distance': 100}, {'command': 'turn_left'}]\n",
      "🤖 Robot API Response: 200 {\"status\": \"command_added\"}\n"
     ]
    },
    {
     "name": "stderr",
     "output_type": "stream",
     "text": [
      "127.0.0.1 - - [29/Mar/2025 22:55:52] \"POST /send_to_robot HTTP/1.1\" 200 -\n"
     ]
    },
    {
     "name": "stdout",
     "output_type": "stream",
     "text": [
      "📤 Sending to robot API: [{'command': 'move_forward', 'distance': 100}, {'command': 'turn_left'}]\n",
      "🤖 Robot API Response: 200 {\"status\": \"command_added\"}\n"
     ]
    },
    {
     "name": "stderr",
     "output_type": "stream",
     "text": [
      "127.0.0.1 - - [29/Mar/2025 22:58:58] \"POST /send_to_robot HTTP/1.1\" 200 -\n"
     ]
    },
    {
     "name": "stdout",
     "output_type": "stream",
     "text": [
      "📤 Sending to robot API: [{'command': 'move_forward', 'distance': 100}, {'command': 'turn_left'}]\n",
      "🤖 Robot API Response: 200 {\"status\": \"command_added\"}\n"
     ]
    },
    {
     "name": "stderr",
     "output_type": "stream",
     "text": [
      "127.0.0.1 - - [29/Mar/2025 22:59:28] \"POST /send_command HTTP/1.1\" 200 -\n"
     ]
    },
    {
     "name": "stdout",
     "output_type": "stream",
     "text": [
      "🎙️ Raw text: move 100 mmm then take left, then move by 50 mmm then.\n",
      "🤖 Parsed commands: [{'command': 'turn_left'}]\n"
     ]
    },
    {
     "name": "stderr",
     "output_type": "stream",
     "text": [
      "127.0.0.1 - - [29/Mar/2025 22:59:38] \"POST /send_command HTTP/1.1\" 200 -\n"
     ]
    },
    {
     "name": "stdout",
     "output_type": "stream",
     "text": [
      "🎙️ Raw text: move forward by 100 mmm, then take left, then move forward by 50 mmm.\n",
      "🤖 Parsed commands: [{'command': 'move_forward', 'distance': 100}, {'command': 'turn_left'}, {'command': 'move_forward', 'distance': 50}]\n"
     ]
    },
    {
     "name": "stderr",
     "output_type": "stream",
     "text": [
      "127.0.0.1 - - [29/Mar/2025 22:59:41] \"POST /send_to_robot HTTP/1.1\" 200 -\n"
     ]
    },
    {
     "name": "stdout",
     "output_type": "stream",
     "text": [
      "📤 Sending to robot API: [{'command': 'move_forward', 'distance': 100}, {'command': 'turn_left'}, {'command': 'move_forward', 'distance': 50}]\n",
      "🤖 Robot API Response: 200 {\"status\": \"command_added\"}\n"
     ]
    },
    {
     "name": "stderr",
     "output_type": "stream",
     "text": [
      "127.0.0.1 - - [29/Mar/2025 23:00:12] \"POST /send_to_robot HTTP/1.1\" 200 -\n"
     ]
    },
    {
     "name": "stdout",
     "output_type": "stream",
     "text": [
      "📤 Sending to robot API: [{'command': 'move_forward', 'distance': 100}, {'command': 'turn_left'}, {'command': 'move_forward', 'distance': 50}]\n",
      "🤖 Robot API Response: 200 {\"status\": \"command_added\"}\n"
     ]
    },
    {
     "name": "stderr",
     "output_type": "stream",
     "text": [
      "127.0.0.1 - - [29/Mar/2025 23:00:22] \"POST /send_to_robot HTTP/1.1\" 200 -\n"
     ]
    },
    {
     "name": "stdout",
     "output_type": "stream",
     "text": [
      "📤 Sending to robot API: [{'command': 'move_forward', 'distance': 100}, {'command': 'turn_left'}, {'command': 'move_forward', 'distance': 50}]\n",
      "🤖 Robot API Response: 200 {\"status\": \"command_added\"}\n"
     ]
    },
    {
     "name": "stderr",
     "output_type": "stream",
     "text": [
      "127.0.0.1 - - [29/Mar/2025 23:00:35] \"POST /send_command HTTP/1.1\" 200 -\n"
     ]
    },
    {
     "name": "stdout",
     "output_type": "stream",
     "text": [
      "🎙️ Raw text: move forward by 100 mmm, then take left, then move forward by 50 mmm.\n",
      "🤖 Parsed commands: [{'command': 'move_forward', 'distance': 100}, {'command': 'turn_left'}, {'command': 'move_forward', 'distance': 50}]\n"
     ]
    },
    {
     "name": "stderr",
     "output_type": "stream",
     "text": [
      "127.0.0.1 - - [29/Mar/2025 23:00:40] \"POST /send_to_robot HTTP/1.1\" 200 -\n"
     ]
    },
    {
     "name": "stdout",
     "output_type": "stream",
     "text": [
      "📤 Sending to robot API: [{'command': 'move_forward', 'distance': 1000}, {'command': 'turn_left'}, {'command': 'move_forward', 'distance': 50}]\n",
      "🤖 Robot API Response: 200 {\"status\": \"command_added\"}\n"
     ]
    },
    {
     "name": "stderr",
     "output_type": "stream",
     "text": [
      "127.0.0.1 - - [29/Mar/2025 23:01:12] \"POST /send_command HTTP/1.1\" 200 -\n"
     ]
    },
    {
     "name": "stdout",
     "output_type": "stream",
     "text": [
      "🎙️ Raw text: move forward by 100 mmm, then take left, then move forward by 50 mmm.\n",
      "🤖 Parsed commands: [{'command': 'move_forward', 'distance': 100}, {'command': 'turn_left'}, {'command': 'move_forward', 'distance': 50}]\n"
     ]
    },
    {
     "name": "stderr",
     "output_type": "stream",
     "text": [
      "127.0.0.1 - - [29/Mar/2025 23:01:25] \"POST /send_to_robot HTTP/1.1\" 200 -\n"
     ]
    },
    {
     "name": "stdout",
     "output_type": "stream",
     "text": [
      "📤 Sending to robot API: [{'command': 'move_forward', 'distance': 200}, {'command': 'turn_left'}, {'command': 'move_forward', 'distance': 500}]\n",
      "🤖 Robot API Response: 200 {\"status\": \"command_added\"}\n"
     ]
    },
    {
     "name": "stderr",
     "output_type": "stream",
     "text": [
      "127.0.0.1 - - [29/Mar/2025 23:01:46] \"POST /send_to_robot HTTP/1.1\" 200 -\n"
     ]
    },
    {
     "name": "stdout",
     "output_type": "stream",
     "text": [
      "📤 Sending to robot API: [{'command': 'move_forward', 'distance': 200}, {'command': 'turn_left'}, {'command': 'move_forward', 'distance': 500}]\n",
      "🤖 Robot API Response: 200 {\"status\": \"command_added\"}\n"
     ]
    },
    {
     "name": "stderr",
     "output_type": "stream",
     "text": [
      "127.0.0.1 - - [29/Mar/2025 23:04:06] \"POST /send_to_robot HTTP/1.1\" 200 -\n"
     ]
    },
    {
     "name": "stdout",
     "output_type": "stream",
     "text": [
      "📤 Sending to robot API: [{'command': 'move_forward', 'distance': 200}, {'command': 'turn_left'}, {'command': 'move_forward', 'distance': 500}]\n",
      "🤖 Robot API Response: 200 {\"status\": \"command_added\"}\n"
     ]
    },
    {
     "name": "stderr",
     "output_type": "stream",
     "text": [
      "127.0.0.1 - - [29/Mar/2025 23:04:19] \"POST /send_to_robot HTTP/1.1\" 200 -\n"
     ]
    },
    {
     "name": "stdout",
     "output_type": "stream",
     "text": [
      "📤 Sending to robot API: [{'command': 'move_forward', 'distance': 200}, {'command': 'turn_left'}, {'command': 'move_forward', 'distance': 100}]\n",
      "🤖 Robot API Response: 200 {\"status\": \"command_added\"}\n"
     ]
    },
    {
     "name": "stderr",
     "output_type": "stream",
     "text": [
      "127.0.0.1 - - [29/Mar/2025 23:04:27] \"POST /send_to_robot HTTP/1.1\" 200 -\n"
     ]
    },
    {
     "name": "stdout",
     "output_type": "stream",
     "text": [
      "📤 Sending to robot API: [{'command': 'move_forward', 'distance': 200}, {'command': 'turn_left'}, {'command': 'move_forward', 'distance': 100}]\n",
      "🤖 Robot API Response: 200 {\"status\": \"command_added\"}\n"
     ]
    },
    {
     "name": "stderr",
     "output_type": "stream",
     "text": [
      "127.0.0.1 - - [29/Mar/2025 23:06:02] \"POST /send_to_robot HTTP/1.1\" 200 -\n"
     ]
    },
    {
     "name": "stdout",
     "output_type": "stream",
     "text": [
      "📤 Sending to robot API: [{'command': 'move_forward', 'distance': 200}, {'command': 'turn_left'}, {'command': 'move_forward', 'distance': 100}]\n",
      "🤖 Robot API Response: 200 {\"status\": \"command_added\"}\n"
     ]
    },
    {
     "name": "stderr",
     "output_type": "stream",
     "text": [
      "127.0.0.1 - - [29/Mar/2025 23:09:31] \"POST /send_to_robot HTTP/1.1\" 200 -\n"
     ]
    },
    {
     "name": "stdout",
     "output_type": "stream",
     "text": [
      "📤 Sending to robot API: [{'command': 'move_forward', 'distance': 200}, {'command': 'turn_left'}, {'command': 'move_forward', 'distance': 100}]\n",
      "🤖 Robot API Response: 200 {\"status\": \"command_added\"}\n"
     ]
    },
    {
     "name": "stderr",
     "output_type": "stream",
     "text": [
      "127.0.0.1 - - [29/Mar/2025 23:12:27] \"POST /send_to_robot HTTP/1.1\" 200 -\n"
     ]
    },
    {
     "name": "stdout",
     "output_type": "stream",
     "text": [
      "📤 Sending to robot API: [{'command': 'move_forward', 'distance': 200}, {'command': 'turn_left'}, {'command': 'move_forward', 'distance': 100}]\n",
      "🤖 Robot API Response: 200 {\"status\": \"command_added\"}\n"
     ]
    },
    {
     "name": "stderr",
     "output_type": "stream",
     "text": [
      "127.0.0.1 - - [29/Mar/2025 23:17:23] \"POST /send_to_robot HTTP/1.1\" 200 -\n"
     ]
    },
    {
     "name": "stdout",
     "output_type": "stream",
     "text": [
      "📤 Sending to robot API: [{'command': 'move_forward', 'distance': 200}, {'command': 'turn_left'}, {'command': 'move_forward', 'distance': 100}]\n",
      "🤖 Robot API Response: 200 {\"status\": \"command_added\"}\n"
     ]
    },
    {
     "name": "stderr",
     "output_type": "stream",
     "text": [
      "127.0.0.1 - - [29/Mar/2025 23:19:32] \"POST /send_to_robot HTTP/1.1\" 200 -\n"
     ]
    },
    {
     "name": "stdout",
     "output_type": "stream",
     "text": [
      "📤 Sending to robot API: [{'command': 'move_forward', 'distance': 200}, {'command': 'turn_left'}, {'command': 'move_forward', 'distance': 100}]\n",
      "🤖 Robot API Response: 200 {\"status\": \"command_added\"}\n"
     ]
    },
    {
     "name": "stderr",
     "output_type": "stream",
     "text": [
      "127.0.0.1 - - [29/Mar/2025 23:19:58] \"POST /send_to_robot HTTP/1.1\" 200 -\n"
     ]
    },
    {
     "name": "stdout",
     "output_type": "stream",
     "text": [
      "📤 Sending to robot API: [{'command': 'move_forward', 'distance': 200}, {'command': 'turn_left'}, {'command': 'move_forward', 'distance': 100}]\n",
      "🤖 Robot API Response: 200 {\"status\": \"command_added\"}\n"
     ]
    },
    {
     "name": "stderr",
     "output_type": "stream",
     "text": [
      "127.0.0.1 - - [29/Mar/2025 23:20:16] \"POST /send_to_robot HTTP/1.1\" 200 -\n"
     ]
    },
    {
     "name": "stdout",
     "output_type": "stream",
     "text": [
      "📤 Sending to robot API: [{'command': 'move_forward', 'distance': 200}, {'command': 'turn_left'}, {'command': 'move_forward', 'distance': 100}]\n",
      "🤖 Robot API Response: 200 {\"status\": \"command_added\"}\n"
     ]
    },
    {
     "name": "stderr",
     "output_type": "stream",
     "text": [
      "127.0.0.1 - - [29/Mar/2025 23:21:39] \"POST /send_to_robot HTTP/1.1\" 200 -\n"
     ]
    },
    {
     "name": "stdout",
     "output_type": "stream",
     "text": [
      "📤 Sending to robot API: [{'command': 'move_forward', 'distance': 200}, {'command': 'turn_left'}, {'command': 'move_forward', 'distance': 100}]\n",
      "🤖 Robot API Response: 200 {\"status\": \"command_added\"}\n"
     ]
    },
    {
     "name": "stderr",
     "output_type": "stream",
     "text": [
      "127.0.0.1 - - [29/Mar/2025 23:21:54] \"POST /send_to_robot HTTP/1.1\" 200 -\n"
     ]
    },
    {
     "name": "stdout",
     "output_type": "stream",
     "text": [
      "📤 Sending to robot API: [{'command': 'move_forward', 'distance': 200}, {'command': 'turn_left'}, {'command': 'move_forward', 'distance': 100}]\n",
      "🤖 Robot API Response: 200 {\"status\": \"command_added\"}\n"
     ]
    },
    {
     "name": "stderr",
     "output_type": "stream",
     "text": [
      "127.0.0.1 - - [29/Mar/2025 23:22:23] \"POST /send_to_robot HTTP/1.1\" 200 -\n"
     ]
    },
    {
     "name": "stdout",
     "output_type": "stream",
     "text": [
      "📤 Sending to robot API: [{'command': 'move_forward', 'distance': 200}, {'command': 'turn_left'}, {'command': 'move_forward', 'distance': 100}]\n",
      "🤖 Robot API Response: 200 {\"status\": \"command_added\"}\n"
     ]
    }
   ],
   "source": [
    "from flask import Flask, render_template, request, jsonify\n",
    "import re\n",
    "import requests\n",
    "\n",
    "API_URL = \"http://c23d6504-d0b7-485a-8f96-85aa01261ad7.centralindia.azurecontainer.io/score\"\n",
    "\n",
    "app = Flask(__name__)\n",
    "\n",
    "@app.route('/')\n",
    "def index():\n",
    "    return render_template('index.html')\n",
    "\n",
    "\n",
    "@app.route('/send_to_robot', methods=['POST'])\n",
    "def send_to_robot():\n",
    "    parsed_command_list = request.json  # Expecting a list of dicts\n",
    "    print(\"📤 Sending to robot API:\", parsed_command_list)\n",
    "\n",
    "    try:\n",
    "        response = requests.post(API_URL, json={\n",
    "            \"method\": \"POST\",\n",
    "            \"body\": {\n",
    "                \"command\": parsed_command_list  # 👈 Wrap the list inside 'command'\n",
    "            }\n",
    "        })\n",
    "\n",
    "        print(\"🤖 Robot API Response:\", response.status_code, response.text)\n",
    "\n",
    "        return jsonify({\n",
    "            \"message\": \"✅ Command sent to robot.\",\n",
    "            \"status_code\": response.status_code,\n",
    "            \"robot_response\": response.json()\n",
    "        })\n",
    "\n",
    "    except Exception as e:\n",
    "        print(\"❌ Error sending to robot:\", str(e))\n",
    "        return jsonify({\n",
    "            \"message\": \"❌ Failed to send command to robot.\",\n",
    "            \"error\": str(e)\n",
    "        }), 500\n",
    "\n",
    "@app.route('/send_command', methods=['POST'])\n",
    "def send_command():\n",
    "    user_text = request.json.get(\"command\", \"\").lower()\n",
    "    print(\"🎙️ Raw text:\", user_text)\n",
    "\n",
    "    # Split by \"then\" or \",\"\n",
    "    steps = re.split(r'\\bthen\\b|,', user_text)\n",
    "    result = []\n",
    "\n",
    "    for step in steps:\n",
    "        step = step.strip()\n",
    "        cmd = {}\n",
    "\n",
    "        if \"move forward\" in step:\n",
    "            cmd[\"command\"] = \"move_forward\"\n",
    "            match = re.search(r'(\\d+)\\s*mm', step)\n",
    "            if match:\n",
    "                cmd[\"distance\"] = int(match.group(1))\n",
    "\n",
    "        elif \"move backward\" in step:\n",
    "            cmd[\"command\"] = \"move_backward\"\n",
    "            match = re.search(r'(\\d+)\\s*mm', step)\n",
    "            if match:\n",
    "                cmd[\"distance\"] = int(match.group(1))\n",
    "\n",
    "        elif \"turn left\" in step or \"take left\" in step:\n",
    "            cmd[\"command\"] = \"turn_left\"\n",
    "\n",
    "        elif \"turn right\" in step or \"take right\" in step:\n",
    "            cmd[\"command\"] = \"turn_right\"\n",
    "\n",
    "        elif \"rotate\" in step:\n",
    "            cmd[\"command\"] = \"rotate\"\n",
    "\n",
    "        elif \"stop\" in step:\n",
    "            cmd[\"command\"] = \"stop\"\n",
    "\n",
    "        if cmd:  # Add only if valid\n",
    "            result.append(cmd)\n",
    "\n",
    "    print(\"🤖 Parsed commands:\", result)\n",
    "\n",
    "    return jsonify({\"status\": \"success\", \"parsed\": result})\n",
    "\n",
    "\n",
    "if __name__ == '__main__':\n",
    "    app.run(debug=False)\n"
   ]
  },
  {
   "cell_type": "code",
   "execution_count": null,
   "id": "b9187b12-1950-481c-933d-397baef10030",
   "metadata": {},
   "outputs": [],
   "source": []
  }
 ],
 "metadata": {
  "kernelspec": {
   "display_name": "Python 3 (ipykernel)",
   "language": "python",
   "name": "python3"
  },
  "language_info": {
   "codemirror_mode": {
    "name": "ipython",
    "version": 3
   },
   "file_extension": ".py",
   "mimetype": "text/x-python",
   "name": "python",
   "nbconvert_exporter": "python",
   "pygments_lexer": "ipython3",
   "version": "3.12.7"
  }
 },
 "nbformat": 4,
 "nbformat_minor": 5
}
